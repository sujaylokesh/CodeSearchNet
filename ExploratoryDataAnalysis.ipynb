{
 "cells": [
  {
   "cell_type": "markdown",
   "metadata": {},
   "source": [
    "# Exploratory Data Analysis\n",
    "\n",
    "## Importing Libraries\n",
    "\n",
    "Importing JSON to handle the python Data\n",
    "\n",
    "Importing pprint to \"prettify\" the data\n",
    "\n"
   ]
  },
  {
   "cell_type": "code",
   "execution_count": 12,
   "metadata": {},
   "outputs": [],
   "source": [
    "import json\n",
    "from pprint import pprint"
   ]
  },
  {
   "cell_type": "markdown",
   "metadata": {},
   "source": [
    "# Downloading the Python Data\n",
    "\n",
    "Using the below link, we download the python.zip data from a S3 AWS store \n",
    "\n",
    "    https://s3.amazonaws.com/code-search-net/CodeSearchNet/v2/python.zip\n",
    "\n",
    "For any other programming language, follow the following S3 link pattern \n",
    "\n",
    "    https://s3.amazonaws.com/code-search-net/CodeSearchNet/v2/{python,java,go,php,ruby,javascript}.zip"
   ]
  },
  {
   "cell_type": "code",
   "execution_count": null,
   "metadata": {},
   "outputs": [],
   "source": [
    "!wget https://s3.amazonaws.com/code-search-net/CodeSearchNet/v2/python.zip"
   ]
  },
  {
   "cell_type": "code",
   "execution_count": null,
   "metadata": {},
   "outputs": [],
   "source": [
    "# Unzipping the python.zip file\n",
    "\n",
    "using the !unzip functiom we unzip the downloaded python.zip file. \n",
    "\n",
    "The Following file tree is created \n",
    "\n",
    "```\n",
    "python\n",
    "|-final\n",
    "    |-jsonl\n",
    "        |-test\n",
    "            |-python_test_0.jsonl.gz\n",
    "        |-train\n",
    "            |-python_train_0.jsonl.gz\n",
    "            |-python_train_1.jsonl.gz\n",
    "            |-python_train_2.jsonl.gz\n",
    "            |-python_train_3.jsonl.gz\n",
    "            |-python_train_4.jsonl.gz\n",
    "            |-python_train_5.jsonl.gz\n",
    "            |-python_train_6.jsonl.gz\n",
    "            |-python_train_7.jsonl.gz\n",
    "            |-python_train_8.jsonl.gz\n",
    "            |-python_train_9.jsonl.gz\n",
    "            |-python_train_10.jsonl.gz\n",
    "            |-python_train_11.jsonl.gz\n",
    "            |-python_train_12.jsonl.gz\n",
    "            |-python_train_13.jsonl.gz\n",
    "        |-valid\n",
    "            |-python_valid_0.jsonl.gz\n",
    "```\n",
    "\n",
    "    "
   ]
  },
  {
   "cell_type": "code",
   "execution_count": 5,
   "metadata": {},
   "outputs": [
    {
     "output_type": "stream",
     "name": "stdout",
     "text": "Archive:  python.zip\n   creating: python/\n   creating: python/final/\n   creating: python/final/jsonl/\n   creating: python/final/jsonl/train/\n  inflating: python/final/jsonl/train/python_train_9.jsonl.gz\n  inflating: python/final/jsonl/train/python_train_12.jsonl.gz\n  inflating: python/final/jsonl/train/python_train_10.jsonl.gz\n  inflating: python/final/jsonl/train/python_train_0.jsonl.gz\n  inflating: python/final/jsonl/train/python_train_6.jsonl.gz\n  inflating: python/final/jsonl/train/python_train_2.jsonl.gz\n  inflating: python/final/jsonl/train/python_train_4.jsonl.gz\n  inflating: python/final/jsonl/train/python_train_8.jsonl.gz\n  inflating: python/final/jsonl/train/python_train_11.jsonl.gz\n  inflating: python/final/jsonl/train/python_train_5.jsonl.gz\n  inflating: python/final/jsonl/train/python_train_13.jsonl.gz\n  inflating: python/final/jsonl/train/python_train_3.jsonl.gz\n  inflating: python/final/jsonl/train/python_train_1.jsonl.gz\n  inflating: python/final/jsonl/train/python_train_7.jsonl.gz\n   creating: python/final/jsonl/test/\n  inflating: python/final/jsonl/test/python_test_0.jsonl.gz\n   creating: python/final/jsonl/valid/\n  inflating: python/final/jsonl/valid/python_valid_0.jsonl.gz\n  inflating: python_dedupe_definitions_v2.pkl\n  inflating: python_licenses.pkl\n"
    }
   ],
   "source": [
    "!unzip python.zip"
   ]
  },
  {
   "cell_type": "markdown",
   "metadata": {},
   "source": [
    "# Using Gzip\n",
    "\n",
    "We use !Gzip to unzip a .gz file "
   ]
  },
  {
   "cell_type": "code",
   "execution_count": 8,
   "metadata": {},
   "outputs": [],
   "source": [
    "!gzip -d python/final/jsonl/train/python_train_11.jsonl.gz"
   ]
  },
  {
   "cell_type": "markdown",
   "metadata": {},
   "source": [
    "# Reading the Data \n",
    "\n",
    "Now we read the .jsonl file into a variable called data"
   ]
  },
  {
   "cell_type": "code",
   "execution_count": 16,
   "metadata": {},
   "outputs": [],
   "source": [
    "with open('python/final/jsonl/train/python_train_11.jsonl', 'r') as f:\n",
    "    data = f.readlines()"
   ]
  },
  {
   "cell_type": "markdown",
   "metadata": {},
   "source": [
    "Using the len function, we are able to see that there are 30,000 entries in the list"
   ]
  },
  {
   "cell_type": "code",
   "execution_count": 17,
   "metadata": {},
   "outputs": [
    {
     "output_type": "execute_result",
     "data": {
      "text/plain": "30000"
     },
     "metadata": {},
     "execution_count": 17
    }
   ],
   "source": [
    "len(data)"
   ]
  },
  {
   "cell_type": "markdown",
   "metadata": {},
   "source": [
    "# Reading one file\n",
    "\n",
    "At random we chose a list entry to be opened. (1000)\n",
    "\n",
    "below the contents of the list are seen. "
   ]
  },
  {
   "cell_type": "code",
   "execution_count": 18,
   "metadata": {},
   "outputs": [
    {
     "output_type": "execute_result",
     "data": {
      "text/plain": "str"
     },
     "metadata": {},
     "execution_count": 18
    }
   ],
   "source": [
    "data = data[1000]\n",
    "data"
   ]
  },
  {
   "cell_type": "markdown",
   "metadata": {},
   "source": [
    "Now we convert the data string to a dictionary for better understandability"
   ]
  },
  {
   "cell_type": "code",
   "execution_count": 19,
   "metadata": {},
   "outputs": [
    {
     "output_type": "execute_result",
     "data": {
      "text/plain": "dict"
     },
     "metadata": {},
     "execution_count": 19
    }
   ],
   "source": [
    "data = json.loads(data)\n",
    "data"
   ]
  },
  {
   "cell_type": "markdown",
   "metadata": {},
   "source": [
    "Using pprint to prettify the data.\n",
    "\n",
    "This helps in visualization\n",
    "\n",
    "The schema for the dictionary is shown below. \n",
    "\n",
    "- **repo:** the owner/repo\n",
    "- **path:** the full path to the original file\n",
    "- **func_name:** the function or method name\n",
    "- **original_string:** the raw string before tokenization or parsing\n",
    "- **language:** the programming language\n",
    "- **code:** the part of the `original_string` that is code\n",
    "- **code_tokens:** tokenized version of `code`\n",
    "- **docstring:** the top-level comment or docstring, if it exists in the original string\n",
    "- **docstring_tokens:** tokenized version of `docstring`\n",
    "- **sha:** this field is not being used \n",
    "- **partition:** a flag indicating what partition this datum belongs to of {train, valid, test, etc.} This is not used by the model.  Instead we rely on directory structure to denote the partition of the data.\n",
    "- **url:** the url for the code snippet including the line numbers\n",
    "\n"
   ]
  },
  {
   "cell_type": "code",
   "execution_count": 41,
   "metadata": {},
   "outputs": [
    {
     "output_type": "stream",
     "name": "stdout",
     "text": "{'code': 'def add(self, host, filename, data, f_type, f_other_type=None, '\n         \"f_text=''):\\n\"\n         '        \"\"\"\\n'\n         '        Add evidence\\n'\n         '\\n'\n         '        :param host: db.t_hosts.id\\n'\n         '        :param filename: Filename\\n'\n         '        :param data: Content of file\\n'\n         '        :param f_type: Evidence type\\n'\n         \"        :param f_other_type: If f_type is 'Other' what type it is\\n\"\n         '        :param f_text: Text information about the evidence\\n'\n         '        :return: (True/False, response message)\\n'\n         '        \"\"\"\\n'\n         '        return self.send.evidence_add(host, filename, data, f_type, '\n         'f_other_type, f_text)',\n 'code_tokens': ['def',\n                 'add',\n                 '(',\n                 'self',\n                 ',',\n                 'host',\n                 ',',\n                 'filename',\n                 ',',\n                 'data',\n                 ',',\n                 'f_type',\n                 ',',\n                 'f_other_type',\n                 '=',\n                 'None',\n                 ',',\n                 'f_text',\n                 '=',\n                 \"''\",\n                 ')',\n                 ':',\n                 'return',\n                 'self',\n                 '.',\n                 'send',\n                 '.',\n                 'evidence_add',\n                 '(',\n                 'host',\n                 ',',\n                 'filename',\n                 ',',\n                 'data',\n                 ',',\n                 'f_type',\n                 ',',\n                 'f_other_type',\n                 ',',\n                 'f_text',\n                 ')'],\n 'docstring': 'Add evidence\\n'\n              '\\n'\n              '        :param host: db.t_hosts.id\\n'\n              '        :param filename: Filename\\n'\n              '        :param data: Content of file\\n'\n              '        :param f_type: Evidence type\\n'\n              \"        :param f_other_type: If f_type is 'Other' what type it \"\n              'is\\n'\n              '        :param f_text: Text information about the evidence\\n'\n              '        :return: (True/False, response message)',\n 'docstring_tokens': ['Add', 'evidence'],\n 'func_name': 'Evidence.add',\n 'language': 'python',\n 'original_string': 'def add(self, host, filename, data, f_type, '\n                    \"f_other_type=None, f_text=''):\\n\"\n                    '        \"\"\"\\n'\n                    '        Add evidence\\n'\n                    '\\n'\n                    '        :param host: db.t_hosts.id\\n'\n                    '        :param filename: Filename\\n'\n                    '        :param data: Content of file\\n'\n                    '        :param f_type: Evidence type\\n'\n                    \"        :param f_other_type: If f_type is 'Other' what \"\n                    'type it is\\n'\n                    '        :param f_text: Text information about the '\n                    'evidence\\n'\n                    '        :return: (True/False, response message)\\n'\n                    '        \"\"\"\\n'\n                    '        return self.send.evidence_add(host, filename, '\n                    'data, f_type, f_other_type, f_text)',\n 'partition': 'train',\n 'path': 'KvasirAPI/jsonrpc/evidence.py',\n 'repo': 'KvasirSecurity/kvasirapi-python',\n 'sha': 'ec8c5818bd5913f3afd150f25eaec6e7cc732f4c',\n 'url': 'https://github.com/KvasirSecurity/kvasirapi-python/blob/ec8c5818bd5913f3afd150f25eaec6e7cc732f4c/KvasirAPI/jsonrpc/evidence.py#L43-L55'}\n"
    }
   ],
   "source": [
    "pprint(data)"
   ]
  }
 ],
 "metadata": {
  "language_info": {
   "codemirror_mode": {
    "name": "ipython",
    "version": 3
   },
   "file_extension": ".py",
   "mimetype": "text/x-python",
   "name": "python",
   "nbconvert_exporter": "python",
   "pygments_lexer": "ipython3",
   "version": "3.6.4-final"
  },
  "orig_nbformat": 2,
  "kernelspec": {
   "name": "python36464bit77a4bcc98fc24e29b5d2995a92bd8b74",
   "display_name": "Python 3.6.4 64-bit"
  }
 },
 "nbformat": 4,
 "nbformat_minor": 2
}